{
 "cells": [
  {
   "cell_type": "code",
   "execution_count": 1,
   "id": "8eb9e640",
   "metadata": {},
   "outputs": [],
   "source": [
    "import pandas as pd\n",
    "import matplotlib.pyplot as plt\n",
    "from matplotlib import cm\n",
    "import matplotlib\n",
    "import numpy as np\n",
    "from data_gen import get_agent_distribution_and_losses_nels\n",
    "import itertools"
   ]
  },
  {
   "cell_type": "code",
   "execution_count": 2,
   "id": "d859fd68",
   "metadata": {},
   "outputs": [],
   "source": [
    "def get_final_beta(df, method):\n",
    "    l = [float(x) for x in list(df[df[\"method\"]==method][\"final_beta\"].item()[1:-1].split(\",\"))]\n",
    "    arr = np.array(l).reshape(len(l), 1)\n",
    "    return arr\n",
    "\n",
    "def get_score_distribution(agent_dist, beta, sigma, q):\n",
    "    s_eq = agent_dist.quantile_fixed_point_true_distribution(beta, sigma, q)\n",
    "    scores = agent_dist.best_response_noisy_score_distribution(beta, s_eq, sigma)\n",
    "    return scores\n",
    "\n",
    "def get_socio_econ(agent_dist):\n",
    "    socio_econ = 1/np.array([gamma[0].item() for gamma in agent_dist.types[\"gammas\"]])\n",
    "    n_socio_econ = socio_econ[agent_dist.n_agent_types]\n",
    "    normalized_socio_econ = (socio_econ- min(socio_econ))/(max(socio_econ)-min(socio_econ))\n",
    "    return n_socio_econ, normalized_socio_econ\n",
    "\n",
    "def get_accepted_scores_by_type(agent_dist, agent_type, scores, cutoff):\n",
    "    type_indicator = agent_dist.n_agent_types == agent_type\n",
    "    return scores[type_indicator]"
   ]
  },
  {
   "cell_type": "code",
   "execution_count": 3,
   "id": "c6178488",
   "metadata": {},
   "outputs": [],
   "source": [
    "beta_bar = np.ones(9)/np.sqrt(9)\n",
    "agent_dist, all_types_and_losses, all_labels, _, _, sigma = get_agent_distribution_and_losses_nels(n=5000, n_clusters=8,\n",
    "                                                                                              prev_beta=beta_bar, \n",
    "                                                                                              seed=0)\n",
    "q=0.7\n",
    "\n",
    "df = pd.read_csv(\"results/nels_months_attended_11-26-22.csv\")\n",
    "df = df[df[\"seed\"] == 0]\n",
    "beta_pe = get_final_beta(df, \"total_deriv\")\n",
    "beta_me = get_final_beta(df, \"partial_deriv_loss_beta\")\n",
    "beta_naive = get_final_beta(df, \"ewm\")"
   ]
  },
  {
   "cell_type": "code",
   "execution_count": 4,
   "id": "b35ebe9f",
   "metadata": {},
   "outputs": [
    {
     "data": {
      "text/plain": [
       "array([[-0.09625657],\n",
       "       [ 0.06295326],\n",
       "       [ 0.08270379],\n",
       "       [-0.04446511],\n",
       "       [-0.68923793],\n",
       "       [ 0.22488933],\n",
       "       [-0.16108357],\n",
       "       [ 0.64928879],\n",
       "       [-0.06932898]])"
      ]
     },
     "execution_count": 4,
     "metadata": {},
     "output_type": "execute_result"
    }
   ],
   "source": [
    "beta_naive"
   ]
  },
  {
   "cell_type": "code",
   "execution_count": 5,
   "id": "dd8a2c34",
   "metadata": {},
   "outputs": [
    {
     "data": {
      "text/plain": [
       "array([[-0.00342347],\n",
       "       [-0.00093881],\n",
       "       [-0.22496088],\n",
       "       [ 0.02419665],\n",
       "       [ 0.45351352],\n",
       "       [ 0.36137093],\n",
       "       [ 0.49230954],\n",
       "       [ 0.53954439],\n",
       "       [ 0.28116584]])"
      ]
     },
     "execution_count": 5,
     "metadata": {},
     "output_type": "execute_result"
    }
   ],
   "source": [
    "beta_pe"
   ]
  },
  {
   "cell_type": "code",
   "execution_count": 6,
   "id": "cf41ca6c",
   "metadata": {},
   "outputs": [
    {
     "data": {
      "text/plain": [
       "array([[0.35591013],\n",
       "       [0.39816975],\n",
       "       [0.35181291],\n",
       "       [0.37577444],\n",
       "       [0.31379299],\n",
       "       [0.2841959 ],\n",
       "       [0.29501489],\n",
       "       [0.30840208],\n",
       "       [0.29737368]])"
      ]
     },
     "execution_count": 6,
     "metadata": {},
     "output_type": "execute_result"
    }
   ],
   "source": [
    "beta_me"
   ]
  },
  {
   "cell_type": "code",
   "execution_count": 7,
   "id": "3d21b87a",
   "metadata": {},
   "outputs": [],
   "source": [
    "def plot_score_dist(ax, agent_dist, beta, sigma, q, title):\n",
    "    scores = get_score_distribution(agent_dist, beta, sigma, q)\n",
    "    n_socio_econ, normalized_socio_econ = get_socio_econ(agent_dist)\n",
    "    colormap = cm.get_cmap('coolwarm', 8)\n",
    "    colormap = colormap(normalized_socio_econ)\n",
    "    cutoff = np.quantile(scores, q)\n",
    "    ax.axvline(x=cutoff, c=\"black\", label=\"Threshold\")\n",
    "\n",
    "    for i in range(agent_dist.n_types):\n",
    "        ax.hist(get_accepted_scores_by_type(agent_dist, i, scores, cutoff), alpha=0.7, color=colormap[i])\n",
    "    ax.set_title(title, fontsize=20)\n",
    "    ax.legend(fontsize=18)\n",
    "    #ax.set_xlim(1, 26)\n",
    "    ax.set_ylim(1, 300)\n",
    "    ax.set_xlabel(\"Scores\", fontsize=20)\n",
    "    ax.set_ylabel(\"Count\", fontsize=20)\n",
    "    return normalized_socio_econ"
   ]
  },
  {
   "cell_type": "code",
   "execution_count": 8,
   "id": "ba171515",
   "metadata": {},
   "outputs": [
    {
     "data": {
      "image/png": "[encoded data removed]",
      "text/plain": [
       "<Figure size 1800x360 with 4 Axes>"
      ]
     },
     "metadata": {
      "needs_background": "light"
     },
     "output_type": "display_data"
    }
   ],
   "source": [
    "fig, axs = plt.subplots(1, 3, figsize=(25, 5))\n",
    "normalized_socio_econ = plot_score_dist(axs[0], agent_dist, beta_pe, sigma, q, \"Score Distribution when \" +r\"$\\beta=\\beta_{comp}$\")\n",
    "plot_score_dist(axs[1], agent_dist, beta_me, sigma, q, \"Score Distribution when \" +r\"$\\beta=\\beta_{strat}$\")\n",
    "normalized_socio_econ = plot_score_dist(axs[2], agent_dist, beta_naive, sigma, q, \"Score Distribution when \" +r\"$\\beta=\\beta_{cap}$\")\n",
    "\n",
    "fig.subplots_adjust(right=0.85)\n",
    "cbar_ax = fig.add_axes([0.90, 0.15, 0.01, 0.7])\n",
    "\n",
    "norm = matplotlib.colors.Normalize(vmin=min(normalized_socio_econ), vmax=max(normalized_socio_econ))\n",
    "sm = plt.cm.ScalarMappable(cmap=cm.coolwarm, norm=norm)\n",
    "sm._A = []\n",
    "cbar = fig.colorbar(sm, cax=cbar_ax, ticks=[0, 1])\n",
    "cbar.ax.set_yticklabels(['Low SES', 'High SES'], fontsize=20)\n",
    "plt.savefig(\"figs/paper-figure-7.pdf\")"
   ]
  },
  {
   "cell_type": "markdown",
   "id": "7e4dbf67",
   "metadata": {},
   "source": [
    "        \"F22XRSTD\",  # READING STANDARDIZED SCORE\n",
    "        \"F22XMSTD\",  # MATHEMATICS STANDARDIZED SCORE\n",
    "        \"F22XSSTD\",  # SCIENCE STANDARDIZED SCORE\n",
    "        \"F22XHSTD\",  # HISTORY/CIT/GEOG STANDARDIZED SCORE\n",
    "        \"F2RHENG2\",  # AVERAGE GRADE IN ENGLISH (HS+B)\n",
    "        \"F2RHMAG2\",  # AVERAGE GRADE IN MATHEMATICS (HS+B)\n",
    "        \"F2RHSCG2\",  # AVERAGE GRADE IN SCIENCE (HS+B)\n",
    "        \"F2RHSOG2\",  # AVERAGE GRADE IN SOCIAL STUDIES (HS+B)\n",
    "        \"F2RHFOG2\",  # AVERAGE GRADE IN FOREIGN LANG. (HS+B)"
   ]
  }
 ],
 "metadata": {
  "kernelspec": {
   "display_name": "Python 3 (ipykernel)",
   "language": "python",
   "name": "python3"
  },
  "language_info": {
   "codemirror_mode": {
    "name": "ipython",
    "version": 3
   },
   "file_extension": ".py",
   "mimetype": "text/x-python",
   "name": "python",
   "nbconvert_exporter": "python",
   "pygments_lexer": "ipython3",
   "version": "3.8.12"
  }
 },
 "nbformat": 4,
 "nbformat_minor": 5
}
