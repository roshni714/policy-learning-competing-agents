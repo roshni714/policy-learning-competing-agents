{
 "cells": [
  {
   "cell_type": "code",
   "execution_count": null,
   "id": "ae00d7fa",
   "metadata": {},
   "outputs": [],
   "source": [
    "import matplotlib.pyplot as plt\n",
    "import pandas as pd\n",
    "import numpy as np"
   ]
  },
  {
   "cell_type": "code",
   "execution_count": null,
   "id": "f20ed98b",
   "metadata": {},
   "outputs": [],
   "source": [
    "df1 = pd.read_csv(\"results/nels_10-26-22_seed_0_gradient_type_partial_deriv_loss_beta_train.csv\")\n",
    "df2 = pd.read_csv(\"results/nels_10-26-22_seed_0_gradient_type_total_deriv_train.csv\")"
   ]
  },
  {
   "cell_type": "code",
   "execution_count": null,
   "id": "dc1f2761",
   "metadata": {},
   "outputs": [],
   "source": [
    "def conversion_method(arr):\n",
    "    l = []\n",
    "    for s in arr:\n",
    "        t = s[1:-1].split(\", \")\n",
    "        t = [float(x) for x in t]\n",
    "        l.append(np.array(t).reshape(10, 1))\n",
    "    return l"
   ]
  },
  {
   "cell_type": "code",
   "execution_count": null,
   "id": "2f5b01a2",
   "metadata": {},
   "outputs": [],
   "source": [
    "plt.figure(figsize=(16/3, 4))\n",
    "plt.plot(df1[\"iteration\"], df1[\"loss\"], label=\"GD with Model Effect\")\n",
    "plt.plot(df2[\"iteration\"], df2[\"loss\"], label=\"GD with Policy Effect\")\n",
    "plt.xlabel(\"Iteration\", fontsize=15)\n",
    "plt.ylabel(\"Equilibrium Loss  \" + r\"$\\hat{L}_{eq}(\\hat{\\beta})$\", fontsize=15)\n",
    "plt.legend(fontsize=12)\n",
    "plt.title(\"Semi-Synthetic NELS: Equilibrium Loss vs. Iteration\", fontsize=15)\n",
    "plt.savefig(\"figs/paper-figure-6.pdf\", bbox_inches='tight')"
   ]
  },
  {
   "cell_type": "code",
   "execution_count": null,
   "id": "0f06efb2",
   "metadata": {},
   "outputs": [],
   "source": []
  }
 ],
 "metadata": {
  "kernelspec": {
   "display_name": "Python 3 (ipykernel)",
   "language": "python",
   "name": "python3"
  },
  "language_info": {
   "codemirror_mode": {
    "name": "ipython",
    "version": 3
   },
   "file_extension": ".py",
   "mimetype": "text/x-python",
   "name": "python",
   "nbconvert_exporter": "python",
   "pygments_lexer": "ipython3",
   "version": "3.8.12"
  }
 },
 "nbformat": 4,
 "nbformat_minor": 5
}
