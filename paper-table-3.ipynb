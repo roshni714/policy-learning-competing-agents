{
 "cells": [
  {
   "cell_type": "code",
   "execution_count": 1,
   "id": "36fd5d42",
   "metadata": {},
   "outputs": [],
   "source": [
    "import matplotlib.pyplot as plt\n",
    "import pandas as pd\n",
    "import numpy as np"
   ]
  },
  {
   "cell_type": "code",
   "execution_count": 2,
   "id": "cf44c95b",
   "metadata": {},
   "outputs": [
    {
     "name": "stdout",
     "output_type": "stream",
     "text": [
      "months_attended\n",
      "--------\n",
      "--------\n",
      "ewm\n",
      "4.02 0.06\n",
      "--------\n",
      "partial_deriv_loss_beta\n",
      "5.1 0.14\n",
      "--------\n",
      "total_deriv\n",
      "5.95 0.21\n",
      "--------\n",
      "t statistic -13.369667848549023\n",
      "etas\n",
      "--------\n",
      "--------\n",
      "ewm\n",
      "2.68 0.21\n",
      "--------\n",
      "partial_deriv_loss_beta\n",
      "2.65 0.01\n",
      "--------\n",
      "total_deriv\n",
      "2.77 0.01\n",
      "--------\n",
      "t statistic -25.316838350876075\n",
      "socio_econ\n",
      "--------\n",
      "--------\n",
      "ewm\n",
      "1.63 0.02\n",
      "--------\n",
      "partial_deriv_loss_beta\n",
      "1.71 0.01\n",
      "--------\n",
      "total_deriv\n",
      "2.71 0.01\n",
      "--------\n",
      "t statistic -191.40134973220648\n"
     ]
    }
   ],
   "source": [
    "methods = [\"ewm\", \"partial_deriv_loss_beta\", \"total_deriv\", ]\n",
    "loss_types = [\"months_attended\", \"etas\",  \"socio_econ\"]\n",
    "for loss_type in loss_types:\n",
    "    print(loss_type)\n",
    "    df = pd.read_csv(\"results/nels_{}_12-11-23.csv\".format(loss_type))\n",
    "    df = df.sort_values(['method', 'seed'], ascending=[True, True])\n",
    "    print(\"--------\")\n",
    "    print(\"--------\")\n",
    "    for method in methods:\n",
    "        print(method)\n",
    "        subdf = df[df.method == method]\n",
    "        print(round(-subdf[\"final_loss\"].mean(), 2), round(subdf[\"final_loss\"].std(), 2))\n",
    "        print(\"--------\")\n",
    "    \n",
    "    tot_df = df[df.method == \"total_deriv\"]\n",
    "    partial_df = df[df.method == \"partial_deriv_loss_beta\"]\n",
    "    y = tot_df[\"final_loss\"].to_numpy().flatten()\n",
    "    x = partial_df[\"final_loss\"].to_numpy().flatten()\n",
    "    diff = y - x\n",
    "    mean_diff = np.mean(diff)\n",
    "    std_diff = np.std(diff)\n",
    "    se = std_diff/np.sqrt(10)\n",
    "    T = mean_diff/se\n",
    "    print(\"t statistic\", T)"
   ]
  },
  {
   "cell_type": "code",
   "execution_count": null,
   "id": "06fb2212",
   "metadata": {},
   "outputs": [],
   "source": []
  }
 ],
 "metadata": {
  "kernelspec": {
   "display_name": "Python 3 (ipykernel)",
   "language": "python",
   "name": "python3"
  },
  "language_info": {
   "codemirror_mode": {
    "name": "ipython",
    "version": 3
   },
   "file_extension": ".py",
   "mimetype": "text/x-python",
   "name": "python",
   "nbconvert_exporter": "python",
   "pygments_lexer": "ipython3",
   "version": "3.9.12"
  }
 },
 "nbformat": 4,
 "nbformat_minor": 5
}
