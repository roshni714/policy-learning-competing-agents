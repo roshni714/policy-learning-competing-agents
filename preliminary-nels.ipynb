{
 "cells": [
  {
   "cell_type": "code",
   "execution_count": 1,
   "id": "d2cf571b",
   "metadata": {},
   "outputs": [],
   "source": [
    "import pandas as pd\n",
    "import matplotlib.pyplot as plt\n",
    "import numpy as np\n",
    "from tqdm import tqdm\n",
    "from data_gen import get_agent_distribution_nels, generate_losses\n",
    "from utils import compute_continuity_noise"
   ]
  },
  {
   "cell_type": "code",
   "execution_count": 2,
   "id": "0789a957",
   "metadata": {},
   "outputs": [],
   "source": [
    "d=10\n",
    "prev_beta = np.ones(d)/np.sqrt(d)\n",
    "prev_s= 0.1"
   ]
  },
  {
   "cell_type": "code",
   "execution_count": 3,
   "id": "3acdd320",
   "metadata": {},
   "outputs": [],
   "source": [
    "agent_dist, indices = get_agent_distribution_nels(sigma=0.1, prev_beta=prev_beta, prev_s=0.1, n=1000000, subsample=50, seed=0)"
   ]
  },
  {
   "cell_type": "code",
   "execution_count": null,
   "id": "708e1e7b",
   "metadata": {},
   "outputs": [],
   "source": [
    "agent_dist.get_gammas()"
   ]
  },
  {
   "cell_type": "code",
   "execution_count": null,
   "id": "1feb77dc",
   "metadata": {},
   "outputs": [],
   "source": [
    "compute_continuity_noise(agent_dist)"
   ]
  },
  {
   "cell_type": "code",
   "execution_count": null,
   "id": "1ae8681a",
   "metadata": {},
   "outputs": [],
   "source": [
    "def loss_beta(agent_dist, beta, sigma, q):\n",
    "    s_beta = agent_dist.quantile_fixed_point_true_distribution(beta, sigma, q)\n",
    "    br_noisy_scores = agent_dist.best_response_noisy_score_distribution(self, beta, s_beta, sigma)\n",
    "    rejected = br_noisy_scores < np.quantile(br_noisy_scores, q)\n",
    "    losses, stu_id = generate_losses()\n",
    "    losses[rejected] = 0.\n",
    "    return np.sum(losses)"
   ]
  },
  {
   "cell_type": "code",
   "execution_count": null,
   "id": "09174d4e",
   "metadata": {},
   "outputs": [],
   "source": [
    "loss_beta(agent_dist, prev_beta, 0.1, 0.7)"
   ]
  },
  {
   "cell_type": "code",
   "execution_count": null,
   "id": "cb0714af",
   "metadata": {},
   "outputs": [],
   "source": []
  }
 ],
 "metadata": {
  "kernelspec": {
   "display_name": "Python 3 (ipykernel)",
   "language": "python",
   "name": "python3"
  },
  "language_info": {
   "codemirror_mode": {
    "name": "ipython",
    "version": 3
   },
   "file_extension": ".py",
   "mimetype": "text/x-python",
   "name": "python",
   "nbconvert_exporter": "python",
   "pygments_lexer": "ipython3",
   "version": "3.8.12"
  }
 },
 "nbformat": 4,
 "nbformat_minor": 5
}
