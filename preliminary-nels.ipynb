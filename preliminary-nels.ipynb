{
 "cells": [
  {
   "cell_type": "code",
   "execution_count": 1,
   "id": "d2cf571b",
   "metadata": {},
   "outputs": [],
   "source": [
    "import pandas as pd\n",
    "import matplotlib.pyplot as plt\n",
    "import numpy as np\n",
    "from tqdm import tqdm\n",
    "from data_gen import generate_covariates\n",
    "from scipy.stats import norm\n",
    "from agent_distribution import AgentDistribution"
   ]
  },
  {
   "cell_type": "code",
   "execution_count": 2,
   "id": "c9f4534c",
   "metadata": {},
   "outputs": [],
   "source": [
    "X, socio_econ = generate_covariates()"
   ]
  },
  {
   "cell_type": "code",
   "execution_count": 3,
   "id": "49f494e5",
   "metadata": {},
   "outputs": [
    {
     "data": {
      "text/plain": [
       "array([0.31622777, 0.31622777, 0.31622777, 0.31622777, 0.31622777,\n",
       "       0.31622777, 0.31622777, 0.31622777, 0.31622777, 0.31622777])"
      ]
     },
     "execution_count": 3,
     "metadata": {},
     "output_type": "execute_result"
    }
   ],
   "source": [
    "d = X.shape[1]\n",
    "beta = np.ones(d)/ np.sqrt(d)\n",
    "beta"
   ]
  },
  {
   "cell_type": "code",
   "execution_count": 4,
   "id": "c67b7797",
   "metadata": {},
   "outputs": [],
   "source": [
    "scores = np.dot(X, beta)\n",
    "quantile = np.quantile(scores, 0.7)"
   ]
  },
  {
   "cell_type": "code",
   "execution_count": 5,
   "id": "16513845",
   "metadata": {},
   "outputs": [
    {
     "data": {
      "text/plain": [
       "Text(0.5, 1.0, 'Score Distribution, Uniform Beta')"
      ]
     },
     "execution_count": 5,
     "metadata": {},
     "output_type": "execute_result"
    },
    {
     "data": {
      "image/png": "[encoded data removed]",
      "text/plain": [
       "<Figure size 432x288 with 1 Axes>"
      ]
     },
     "metadata": {
      "needs_background": "light"
     },
     "output_type": "display_data"
    }
   ],
   "source": [
    "plt.hist(scores)\n",
    "plt.axvline(x=quantile, c=\"r\")\n",
    "plt.xlabel(\"Scores\")\n",
    "plt.ylabel(\"Count\")\n",
    "plt.title(\"Score Distribution, Uniform Beta\")"
   ]
  },
  {
   "cell_type": "code",
   "execution_count": 6,
   "id": "fae8fa15",
   "metadata": {},
   "outputs": [
    {
     "data": {
      "text/plain": [
       "(array([1.000e+01, 3.300e+01, 5.640e+02, 2.170e+03, 3.437e+03, 4.437e+03,\n",
       "        2.592e+03, 1.408e+03, 2.620e+02, 2.000e+00]),\n",
       " array([0.        , 0.10016706, 0.20033411, 0.30050117, 0.40066823,\n",
       "        0.50083528, 0.60100234, 0.7011694 , 0.80133645, 0.90150351,\n",
       "        1.00167056]),\n",
       " <BarContainer object of 10 artists>)"
      ]
     },
     "execution_count": 6,
     "metadata": {},
     "output_type": "execute_result"
    },
    {
     "data": {
      "image/png": "[encoded data removed]",
      "text/plain": [
       "<Figure size 432x288 with 1 Axes>"
      ]
     },
     "metadata": {
      "needs_background": "light"
     },
     "output_type": "display_data"
    }
   ],
   "source": [
    "plt.hist(socio_econ)"
   ]
  },
  {
   "cell_type": "code",
   "execution_count": 7,
   "id": "8191a08d",
   "metadata": {},
   "outputs": [],
   "source": [
    "def compute_gammas(socio_econ):\n",
    "    return 1/(socio_econ + 1e-1)\n",
    "\n",
    "def compute_etas(X, gammas, sigma, beta, s):\n",
    "    etas = X + (1/(2 * gammas)) * norm.pdf(s - np.dot(X, beta), 0, scale=sigma).reshape(X.shape[0], 1) * beta\n",
    "    return etas"
   ]
  },
  {
   "cell_type": "code",
   "execution_count": 8,
   "id": "4c57f59f",
   "metadata": {},
   "outputs": [],
   "source": [
    "gammas = compute_gammas(socio_econ)\n",
    "etas = compute_etas(X, gammas=gammas, sigma=0.1, beta=beta, s=0.25)"
   ]
  },
  {
   "cell_type": "code",
   "execution_count": 9,
   "id": "8922946a",
   "metadata": {},
   "outputs": [
    {
     "data": {
      "text/plain": [
       "(array([ 312., 2161., 3760., 2845.,  684., 1633., 1389., 1482.,  569.,\n",
       "          80.]),\n",
       " array([-1.28285176, -0.93567525, -0.58849873, -0.24132222,  0.10585429,\n",
       "         0.4530308 ,  0.80020732,  1.14738383,  1.49456034,  1.84173685,\n",
       "         2.18891336]),\n",
       " <BarContainer object of 10 artists>)"
      ]
     },
     "execution_count": 9,
     "metadata": {},
     "output_type": "execute_result"
    },
    {
     "data": {
      "image/png": "[encoded data removed]",
      "text/plain": [
       "<Figure size 432x288 with 1 Axes>"
      ]
     },
     "metadata": {
      "needs_background": "light"
     },
     "output_type": "display_data"
    }
   ],
   "source": [
    "true_scores = np.dot(etas, beta)\n",
    "plt.hist(true_scores)"
   ]
  },
  {
   "cell_type": "code",
   "execution_count": 10,
   "id": "9c7cdd7e",
   "metadata": {},
   "outputs": [],
   "source": [
    "def loss(X, etas, gammas, ideal_beta):\n",
    "    scores = np.dot(X, beta)\n",
    "    cutoff = np.quantile(scores, 0.7)\n",
    "    rejected = scores < cutoff\n",
    "    losses = -np.dot(etas, ideal_beta)\n",
    "    losses[rejected] = 0.\n",
    "    return losses"
   ]
  },
  {
   "cell_type": "code",
   "execution_count": 11,
   "id": "b87976dc",
   "metadata": {},
   "outputs": [
    {
     "name": "stdout",
     "output_type": "stream",
     "text": [
      "-0.32767084454057266\n"
     ]
    }
   ],
   "source": [
    "losses = loss(X=X, etas=etas, gammas=gammas, ideal_beta=beta)\n",
    "print(sum(losses)/len(losses))"
   ]
  },
  {
   "cell_type": "code",
   "execution_count": 13,
   "id": "64a45c76",
   "metadata": {},
   "outputs": [],
   "source": [
    "etas = etas.reshape(etas.shape[0], etas.shape[1], 1)\n",
    "gammas = gammas.flatten() * np.ones(etas.shape)"
   ]
  },
  {
   "cell_type": "code",
   "execution_count": 14,
   "id": "3acdd320",
   "metadata": {},
   "outputs": [],
   "source": [
    "agent_dist = AgentDistribution(n=1000000, d=10, n_types=len(gammas), types={\"etas\":etas, \"gammas\":gammas}, prop=None)"
   ]
  },
  {
   "cell_type": "code",
   "execution_count": null,
   "id": "1ae8681a",
   "metadata": {},
   "outputs": [],
   "source": []
  }
 ],
 "metadata": {
  "kernelspec": {
   "display_name": "Python 3 (ipykernel)",
   "language": "python",
   "name": "python3"
  },
  "language_info": {
   "codemirror_mode": {
    "name": "ipython",
    "version": 3
   },
   "file_extension": ".py",
   "mimetype": "text/x-python",
   "name": "python",
   "nbconvert_exporter": "python",
   "pygments_lexer": "ipython3",
   "version": "3.8.12"
  }
 },
 "nbformat": 4,
 "nbformat_minor": 5
}
