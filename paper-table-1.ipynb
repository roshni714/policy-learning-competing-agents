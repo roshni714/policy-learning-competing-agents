{
 "cells": [
  {
   "cell_type": "code",
   "execution_count": 6,
   "id": "b860c4ae",
   "metadata": {},
   "outputs": [],
   "source": [
    "import matplotlib.pyplot as plt\n",
    "import pandas as pd\n",
    "import numpy as np\n",
    "from train import create_challenging_agent_dist\n",
    "from utils import (\n",
    "    compute_continuity_noise,\n",
    "    fixed_point_interpolation_true_distribution,\n",
    "    convert_to_polar_coordinates,\n",
    ")\n",
    "from optimal_beta import expected_policy_loss"
   ]
  },
  {
   "cell_type": "code",
   "execution_count": 7,
   "id": "e64f2005",
   "metadata": {},
   "outputs": [
    {
     "data": {
      "text/html": [
       "<div>\n",
       "<style scoped>\n",
       "    .dataframe tbody tr th:only-of-type {\n",
       "        vertical-align: middle;\n",
       "    }\n",
       "\n",
       "    .dataframe tbody tr th {\n",
       "        vertical-align: top;\n",
       "    }\n",
       "\n",
       "    .dataframe thead th {\n",
       "        text-align: right;\n",
       "    }\n",
       "</style>\n",
       "<table border=\"1\" class=\"dataframe\">\n",
       "  <thead>\n",
       "    <tr style=\"text-align: right;\">\n",
       "      <th></th>\n",
       "      <th>n</th>\n",
       "      <th>d</th>\n",
       "      <th>n_types</th>\n",
       "      <th>sigma</th>\n",
       "      <th>q</th>\n",
       "      <th>seed</th>\n",
       "      <th>perturbation_s</th>\n",
       "      <th>perturbation_theta</th>\n",
       "      <th>opt_loss</th>\n",
       "      <th>opt_theta</th>\n",
       "      <th>final_loss</th>\n",
       "      <th>final_theta</th>\n",
       "    </tr>\n",
       "  </thead>\n",
       "  <tbody>\n",
       "    <tr>\n",
       "      <th>0</th>\n",
       "      <td>1000000</td>\n",
       "      <td>2</td>\n",
       "      <td>10</td>\n",
       "      <td>1.232699</td>\n",
       "      <td>0.7</td>\n",
       "      <td>0</td>\n",
       "      <td>0.2</td>\n",
       "      <td>0.025</td>\n",
       "      <td>-2.030260</td>\n",
       "      <td>-0.192342</td>\n",
       "      <td>-2.026499</td>\n",
       "      <td>-0.202384</td>\n",
       "    </tr>\n",
       "    <tr>\n",
       "      <th>1</th>\n",
       "      <td>1000000</td>\n",
       "      <td>2</td>\n",
       "      <td>10</td>\n",
       "      <td>1.239425</td>\n",
       "      <td>0.7</td>\n",
       "      <td>1</td>\n",
       "      <td>0.2</td>\n",
       "      <td>0.025</td>\n",
       "      <td>-1.419038</td>\n",
       "      <td>0.577027</td>\n",
       "      <td>-1.419103</td>\n",
       "      <td>0.493393</td>\n",
       "    </tr>\n",
       "    <tr>\n",
       "      <th>2</th>\n",
       "      <td>1000000</td>\n",
       "      <td>2</td>\n",
       "      <td>10</td>\n",
       "      <td>0.877041</td>\n",
       "      <td>0.7</td>\n",
       "      <td>2</td>\n",
       "      <td>0.2</td>\n",
       "      <td>0.025</td>\n",
       "      <td>-1.984710</td>\n",
       "      <td>0.192342</td>\n",
       "      <td>-1.978287</td>\n",
       "      <td>-0.028914</td>\n",
       "    </tr>\n",
       "    <tr>\n",
       "      <th>3</th>\n",
       "      <td>1000000</td>\n",
       "      <td>2</td>\n",
       "      <td>10</td>\n",
       "      <td>0.776554</td>\n",
       "      <td>0.7</td>\n",
       "      <td>3</td>\n",
       "      <td>0.2</td>\n",
       "      <td>0.025</td>\n",
       "      <td>-1.970310</td>\n",
       "      <td>0.064114</td>\n",
       "      <td>-1.964664</td>\n",
       "      <td>0.003397</td>\n",
       "    </tr>\n",
       "    <tr>\n",
       "      <th>4</th>\n",
       "      <td>1000000</td>\n",
       "      <td>2</td>\n",
       "      <td>10</td>\n",
       "      <td>0.836367</td>\n",
       "      <td>0.7</td>\n",
       "      <td>4</td>\n",
       "      <td>0.2</td>\n",
       "      <td>0.025</td>\n",
       "      <td>-2.284664</td>\n",
       "      <td>0.320571</td>\n",
       "      <td>-2.255924</td>\n",
       "      <td>-0.233192</td>\n",
       "    </tr>\n",
       "    <tr>\n",
       "      <th>5</th>\n",
       "      <td>1000000</td>\n",
       "      <td>2</td>\n",
       "      <td>10</td>\n",
       "      <td>1.559000</td>\n",
       "      <td>0.7</td>\n",
       "      <td>5</td>\n",
       "      <td>0.2</td>\n",
       "      <td>0.025</td>\n",
       "      <td>-1.852956</td>\n",
       "      <td>-0.064114</td>\n",
       "      <td>-1.852861</td>\n",
       "      <td>-0.099185</td>\n",
       "    </tr>\n",
       "    <tr>\n",
       "      <th>6</th>\n",
       "      <td>1000000</td>\n",
       "      <td>2</td>\n",
       "      <td>10</td>\n",
       "      <td>0.931016</td>\n",
       "      <td>0.7</td>\n",
       "      <td>6</td>\n",
       "      <td>0.2</td>\n",
       "      <td>0.025</td>\n",
       "      <td>-2.143464</td>\n",
       "      <td>-0.192342</td>\n",
       "      <td>-2.136808</td>\n",
       "      <td>-0.295696</td>\n",
       "    </tr>\n",
       "    <tr>\n",
       "      <th>7</th>\n",
       "      <td>1000000</td>\n",
       "      <td>2</td>\n",
       "      <td>10</td>\n",
       "      <td>0.676042</td>\n",
       "      <td>0.7</td>\n",
       "      <td>7</td>\n",
       "      <td>0.2</td>\n",
       "      <td>0.025</td>\n",
       "      <td>-2.157696</td>\n",
       "      <td>0.064114</td>\n",
       "      <td>-2.152185</td>\n",
       "      <td>0.083646</td>\n",
       "    </tr>\n",
       "    <tr>\n",
       "      <th>8</th>\n",
       "      <td>1000000</td>\n",
       "      <td>2</td>\n",
       "      <td>10</td>\n",
       "      <td>1.119211</td>\n",
       "      <td>0.7</td>\n",
       "      <td>8</td>\n",
       "      <td>0.2</td>\n",
       "      <td>0.025</td>\n",
       "      <td>-2.032485</td>\n",
       "      <td>0.320571</td>\n",
       "      <td>-2.031427</td>\n",
       "      <td>0.282149</td>\n",
       "    </tr>\n",
       "    <tr>\n",
       "      <th>9</th>\n",
       "      <td>1000000</td>\n",
       "      <td>2</td>\n",
       "      <td>10</td>\n",
       "      <td>0.614668</td>\n",
       "      <td>0.7</td>\n",
       "      <td>9</td>\n",
       "      <td>0.2</td>\n",
       "      <td>0.025</td>\n",
       "      <td>-2.141198</td>\n",
       "      <td>0.064114</td>\n",
       "      <td>-2.135834</td>\n",
       "      <td>0.042630</td>\n",
       "    </tr>\n",
       "    <tr>\n",
       "      <th>10</th>\n",
       "      <td>1000000</td>\n",
       "      <td>2</td>\n",
       "      <td>10</td>\n",
       "      <td>0.975844</td>\n",
       "      <td>0.7</td>\n",
       "      <td>10</td>\n",
       "      <td>0.2</td>\n",
       "      <td>0.025</td>\n",
       "      <td>-2.094542</td>\n",
       "      <td>-0.064114</td>\n",
       "      <td>-2.093151</td>\n",
       "      <td>-0.147481</td>\n",
       "    </tr>\n",
       "  </tbody>\n",
       "</table>\n",
       "</div>"
      ],
      "text/plain": [
       "          n  d  n_types     sigma    q  seed  perturbation_s  \\\n",
       "0   1000000  2       10  1.232699  0.7     0             0.2   \n",
       "1   1000000  2       10  1.239425  0.7     1             0.2   \n",
       "2   1000000  2       10  0.877041  0.7     2             0.2   \n",
       "3   1000000  2       10  0.776554  0.7     3             0.2   \n",
       "4   1000000  2       10  0.836367  0.7     4             0.2   \n",
       "5   1000000  2       10  1.559000  0.7     5             0.2   \n",
       "6   1000000  2       10  0.931016  0.7     6             0.2   \n",
       "7   1000000  2       10  0.676042  0.7     7             0.2   \n",
       "8   1000000  2       10  1.119211  0.7     8             0.2   \n",
       "9   1000000  2       10  0.614668  0.7     9             0.2   \n",
       "10  1000000  2       10  0.975844  0.7    10             0.2   \n",
       "\n",
       "    perturbation_theta  opt_loss  opt_theta  final_loss  final_theta  \n",
       "0                0.025 -2.030260  -0.192342   -2.026499    -0.202384  \n",
       "1                0.025 -1.419038   0.577027   -1.419103     0.493393  \n",
       "2                0.025 -1.984710   0.192342   -1.978287    -0.028914  \n",
       "3                0.025 -1.970310   0.064114   -1.964664     0.003397  \n",
       "4                0.025 -2.284664   0.320571   -2.255924    -0.233192  \n",
       "5                0.025 -1.852956  -0.064114   -1.852861    -0.099185  \n",
       "6                0.025 -2.143464  -0.192342   -2.136808    -0.295696  \n",
       "7                0.025 -2.157696   0.064114   -2.152185     0.083646  \n",
       "8                0.025 -2.032485   0.320571   -2.031427     0.282149  \n",
       "9                0.025 -2.141198   0.064114   -2.135834     0.042630  \n",
       "10               0.025 -2.094542  -0.064114   -2.093151    -0.147481  "
      ]
     },
     "execution_count": 7,
     "metadata": {},
     "output_type": "execute_result"
    }
   ],
   "source": [
    "df = pd.read_csv(\"results/trial_n_types_10_n_1000000.csv\")\n",
    "df"
   ]
  },
  {
   "cell_type": "code",
   "execution_count": 12,
   "id": "4176eb87",
   "metadata": {},
   "outputs": [
    {
     "data": {
      "text/plain": [
       "(0.005882674770704265, 0.007994374166201187)"
      ]
     },
     "execution_count": 12,
     "metadata": {},
     "output_type": "execute_result"
    }
   ],
   "source": [
    "np.abs(df[\"opt_loss\"] - df[\"final_loss\"]).mean(), np.abs(df[\"opt_loss\"] - df[\"final_loss\"]).std()"
   ]
  },
  {
   "cell_type": "code",
   "execution_count": 19,
   "id": "4b376a82",
   "metadata": {},
   "outputs": [
    {
     "data": {
      "text/plain": [
       "(0.11187656389174437, 0.1580795241495908)"
      ]
     },
     "execution_count": 19,
     "metadata": {},
     "output_type": "execute_result"
    }
   ],
   "source": [
    "np.abs(df[\"opt_theta\"] - df[\"final_theta\"]).mean(), np.abs(df[\"opt_theta\"] - df[\"final_theta\"]).std()"
   ]
  },
  {
   "cell_type": "code",
   "execution_count": 17,
   "id": "eee2df31",
   "metadata": {},
   "outputs": [
    {
     "name": "stderr",
     "output_type": "stream",
     "text": [
      "100%|█████████████████████████████████████████| 100/100 [00:34<00:00,  2.87it/s]\n",
      "100%|█████████████████████████████████████████| 100/100 [00:33<00:00,  2.96it/s]\n",
      "100%|█████████████████████████████████████████| 100/100 [00:34<00:00,  2.87it/s]\n",
      "100%|█████████████████████████████████████████| 100/100 [00:33<00:00,  3.00it/s]\n",
      "100%|█████████████████████████████████████████| 100/100 [00:35<00:00,  2.83it/s]\n",
      "100%|█████████████████████████████████████████| 100/100 [00:33<00:00,  2.96it/s]\n",
      "100%|█████████████████████████████████████████| 100/100 [00:36<00:00,  2.73it/s]\n",
      "100%|█████████████████████████████████████████| 100/100 [00:34<00:00,  2.90it/s]\n",
      "100%|█████████████████████████████████████████| 100/100 [00:36<00:00,  2.78it/s]\n",
      "100%|█████████████████████████████████████████| 100/100 [00:33<00:00,  2.94it/s]\n",
      "100%|█████████████████████████████████████████| 100/100 [00:33<00:00,  3.00it/s]\n"
     ]
    }
   ],
   "source": [
    "SEEDS = list(range(10))\n",
    "naive_losses = []\n",
    "n=1000000\n",
    "n_types=10\n",
    "d=2\n",
    "beta = np.array([1., 0.]).reshape(2, 1)\n",
    "true_beta = beta.copy()\n",
    "thetas = []\n",
    "\n",
    "for seed in SEEDS:\n",
    "    np.random.seed(seed)\n",
    "    \n",
    "    agent_dist = create_challenging_agent_dist(n, n_types, d)\n",
    "    sigma = compute_continuity_noise(agent_dist) + 0.05\n",
    "    q = 0.7\n",
    "    f = fixed_point_interpolation_true_distribution(\n",
    "            agent_dist, sigma, q, plot=False, savefig=None\n",
    "        )\n",
    "\n",
    "    s = f(convert_to_polar_coordinates(beta).item())\n",
    "    thetas.append(convert_to_polar_coordinates(beta).item())\n",
    "    \n",
    "    naive_losses.append(expected_policy_loss(agent_dist, beta, s, sigma, true_beta=true_beta))"
   ]
  },
  {
   "cell_type": "code",
   "execution_count": 18,
   "id": "af379366",
   "metadata": {},
   "outputs": [
    {
     "data": {
      "text/plain": [
       "(0.5907676914401055, 0.19693053407705016)"
      ]
     },
     "execution_count": 18,
     "metadata": {},
     "output_type": "execute_result"
    }
   ],
   "source": [
    "naive_losses = np.array(naive_losses)\n",
    "thetas = np.array(thetas)\n",
    "(naive_losses - df[\"opt_loss\"]).mean(), (naive_losses - df[\"opt_loss\"]).std()"
   ]
  },
  {
   "cell_type": "code",
   "execution_count": 23,
   "id": "51d8292e",
   "metadata": {},
   "outputs": [
    {
     "ename": "NameError",
     "evalue": "name 'thetas' is not defined",
     "output_type": "error",
     "traceback": [
      "\u001b[0;31m---------------------------------------------------------------------------\u001b[0m",
      "\u001b[0;31mNameError\u001b[0m                                 Traceback (most recent call last)",
      "\u001b[0;32m/tmp/ipykernel_124676/3742125816.py\u001b[0m in \u001b[0;36m<module>\u001b[0;34m\u001b[0m\n\u001b[0;32m----> 1\u001b[0;31m \u001b[0mnp\u001b[0m\u001b[0;34m.\u001b[0m\u001b[0mabs\u001b[0m\u001b[0;34m(\u001b[0m\u001b[0mthetas\u001b[0m \u001b[0;34m-\u001b[0m \u001b[0mdf\u001b[0m\u001b[0;34m[\u001b[0m\u001b[0;34m\"opt_theta\"\u001b[0m\u001b[0;34m]\u001b[0m\u001b[0;34m)\u001b[0m\u001b[0;34m.\u001b[0m\u001b[0mmean\u001b[0m\u001b[0;34m(\u001b[0m\u001b[0;34m)\u001b[0m\u001b[0;34m,\u001b[0m \u001b[0mnp\u001b[0m\u001b[0;34m.\u001b[0m\u001b[0mabs\u001b[0m\u001b[0;34m(\u001b[0m\u001b[0mthetas\u001b[0m \u001b[0;34m-\u001b[0m \u001b[0mdf\u001b[0m\u001b[0;34m[\u001b[0m\u001b[0;34m\"opt_theta\"\u001b[0m\u001b[0;34m]\u001b[0m\u001b[0;34m)\u001b[0m\u001b[0;34m.\u001b[0m\u001b[0mstd\u001b[0m\u001b[0;34m(\u001b[0m\u001b[0;34m)\u001b[0m\u001b[0;34m\u001b[0m\u001b[0;34m\u001b[0m\u001b[0m\n\u001b[0m",
      "\u001b[0;31mNameError\u001b[0m: name 'thetas' is not defined"
     ]
    }
   ],
   "source": [
    "np.abs(thetas - df[\"opt_theta\"]).mean(), np.abs(thetas - df[\"opt_theta\"]).std()"
   ]
  },
  {
   "cell_type": "code",
   "execution_count": null,
   "id": "9e9345ec",
   "metadata": {},
   "outputs": [],
   "source": []
  }
 ],
 "metadata": {
  "kernelspec": {
   "display_name": "Python 3 (ipykernel)",
   "language": "python",
   "name": "python3"
  },
  "language_info": {
   "codemirror_mode": {
    "name": "ipython",
    "version": 3
   },
   "file_extension": ".py",
   "mimetype": "text/x-python",
   "name": "python",
   "nbconvert_exporter": "python",
   "pygments_lexer": "ipython3",
   "version": "3.9.12"
  }
 },
 "nbformat": 4,
 "nbformat_minor": 5
}
