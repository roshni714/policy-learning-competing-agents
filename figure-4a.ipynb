{
 "cells": [
  {
   "cell_type": "code",
   "execution_count": 1,
   "id": "3409c414",
   "metadata": {},
   "outputs": [],
   "source": [
    "import pandas as pd\n",
    "import matplotlib as mpl\n",
    "import matplotlib.pyplot as plt\n",
    "from matplotlib import cm\n",
    "import numpy as np\n",
    "from data_gen import get_agent_distribution_and_losses_nels\n",
    "import itertools\n",
    "import bisect"
   ]
  },
  {
   "cell_type": "code",
   "execution_count": 2,
   "id": "64c256f5",
   "metadata": {},
   "outputs": [],
   "source": [
    "def get_final_beta(df, method):\n",
    "    l = [float(x) for x in list(df[df[\"method\"]==method][\"final_beta\"].item()[1:-1].split(\",\"))]\n",
    "    arr = np.array(l).reshape(len(l), 1)\n",
    "    return arr\n",
    "\n",
    "def get_score_distribution(agent_dist, beta, sigma, q):\n",
    "    s_eq = agent_dist.quantile_fixed_point_true_distribution(beta, sigma, q)\n",
    "    scores = agent_dist.best_response_noisy_score_distribution(beta, s_eq, sigma)\n",
    "    return scores\n",
    "\n",
    "def get_socio_econ(agent_dist):\n",
    "    socio_econ = 1/np.array([gamma[0].item() for gamma in agent_dist.types[\"gammas\"]])\n",
    "    n_socio_econ = socio_econ[agent_dist.n_agent_types]\n",
    "    normalized_socio_econ = (socio_econ- min(socio_econ))/(max(socio_econ)-min(socio_econ))\n",
    "    return n_socio_econ, normalized_socio_econ\n",
    "\n",
    "def get_accepted_scores_by_type(agent_dist, agent_type, scores, cutoff):\n",
    "    type_indicator = agent_dist.n_agent_types == agent_type\n",
    "    return scores[type_indicator]"
   ]
  },
  {
   "cell_type": "code",
   "execution_count": 3,
   "id": "8f06d8ad",
   "metadata": {},
   "outputs": [
    {
     "name": "stderr",
     "output_type": "stream",
     "text": [
      "/home/users/rsahoo/miniconda3/envs/competing_agents/lib/python3.9/site-packages/sklearn/cluster/_kmeans.py:1412: FutureWarning: The default value of `n_init` will change from 10 to 'auto' in 1.4. Set the value of `n_init` explicitly to suppress the warning\n",
      "  super()._check_params_vs_input(X, default_n_init=10)\n"
     ]
    },
    {
     "name": "stdout",
     "output_type": "stream",
     "text": [
      "months attended loss [[-24.27172583]] [[-0.49271523]]\n",
      "eta loss [[-9.86267042]] [[-4.32276419]]\n",
      "socio econ loss [[-10.]] [[-0.]]\n"
     ]
    }
   ],
   "source": [
    "beta_bar = np.ones(9)/np.sqrt(9)\n",
    "agent_dist, all_types_and_losses, all_labels, _,_, _, sigma = get_agent_distribution_and_losses_nels(n=5000, n_clusters=8,\n",
    "                                                                                              prev_beta=beta_bar, \n",
    "                                                                                              seed=0)\n",
    "q=0.7\n",
    "\n",
    "df = pd.read_csv(\"results/nels_small_months_attended_4-2-24.csv\")\n",
    "df = df[df[\"seed\"] == 9]\n",
    "beta_pe = get_final_beta(df, \"total_deriv\")\n",
    "beta_me = get_final_beta(df, \"partial_deriv_loss_beta\")\n",
    "beta_naive = get_final_beta(df, \"ewm\")"
   ]
  },
  {
   "cell_type": "code",
   "execution_count": 4,
   "id": "ff31d76b",
   "metadata": {},
   "outputs": [
    {
     "data": {
      "text/plain": [
       "[-0.003, -0.123, 0.099, 0.038, -0.584, -0.23, -0.067, 0.748, 0.124]"
      ]
     },
     "execution_count": 4,
     "metadata": {},
     "output_type": "execute_result"
    }
   ],
   "source": [
    "list([round(x, 3) for x in beta_naive.flatten()] )"
   ]
  },
  {
   "cell_type": "code",
   "execution_count": 5,
   "id": "274cdbd2",
   "metadata": {},
   "outputs": [
    {
     "data": {
      "text/plain": [
       "[0.364, -0.095, -0.159, 0.011, 0.218, 0.142, 0.56, 0.609, -0.284]"
      ]
     },
     "execution_count": 5,
     "metadata": {},
     "output_type": "execute_result"
    }
   ],
   "source": [
    "list([round(x, 3) for x in beta_pe.flatten()] )"
   ]
  },
  {
   "cell_type": "code",
   "execution_count": 6,
   "id": "06815f78",
   "metadata": {},
   "outputs": [
    {
     "data": {
      "text/plain": [
       "[0.295, 0.217, 0.202, 0.285, 0.227, 0.385, 0.438, 0.454, 0.383]"
      ]
     },
     "execution_count": 6,
     "metadata": {},
     "output_type": "execute_result"
    }
   ],
   "source": [
    "list([round(x, 3) for x in beta_me.flatten()] )"
   ]
  },
  {
   "cell_type": "code",
   "execution_count": 7,
   "id": "7f7a5e5f",
   "metadata": {},
   "outputs": [],
   "source": [
    "def plot_score_dist(ax, agent_dist, beta, sigma, q, title):\n",
    "    scores = get_score_distribution(agent_dist, beta, sigma, q)\n",
    "    n_socio_econ, normalized_socio_econ = get_socio_econ(agent_dist)\n",
    "    \n",
    "    bins = [-0.01, 0.333, 0.666, 1.1]\n",
    "    colors = ['#ffbe0b', '#fb5607', '#ff006e', '#8338ec']\n",
    "    cmap = mpl.colors.ListedColormap(colors)\n",
    "    norm = mpl.colors.BoundaryNorm(boundaries=bins, ncolors=len(cmap.colors)-1 )\n",
    "    \n",
    "    cutoff = np.quantile(scores, q)\n",
    "    ax.axvline(x=cutoff, c=\"black\", label=\"Threshold\")\n",
    "\n",
    "    for i in range(agent_dist.n_types):\n",
    "        socio_econ_i = normalized_socio_econ[i]\n",
    "        idx = bisect.bisect_left(bins, socio_econ_i) - 1\n",
    "        ax.hist(get_accepted_scores_by_type(agent_dist, i, scores, cutoff), alpha=0.7, color=colors[idx])\n",
    "    ax.set_title(title, fontsize=20)\n",
    "    ax.legend(fontsize=18)\n",
    "    #ax.set_xlim(1, 26)\n",
    "    ax.set_ylim(1, 300)\n",
    "    ax.set_xlabel(\"Scores\", fontsize=20)\n",
    "    ax.set_ylabel(\"Count\", fontsize=20)\n",
    "    return normalized_socio_econ"
   ]
  },
  {
   "cell_type": "code",
   "execution_count": 8,
   "id": "1c55eebb",
   "metadata": {},
   "outputs": [
    {
     "data": {
      "image/png": "[encoded data removed]",
      "text/plain": [
       "<Figure size 1800x360 with 4 Axes>"
      ]
     },
     "metadata": {
      "needs_background": "light"
     },
     "output_type": "display_data"
    }
   ],
   "source": [
    "fig, axs = plt.subplots(1, 3, figsize=(25, 5))\n",
    "normalized_socio_econ = plot_score_dist(axs[0], agent_dist, beta_pe, sigma, q, \"Score Distribution when \" +r\"$\\beta=\\beta_{comp}$\")\n",
    "plot_score_dist(axs[1], agent_dist, beta_me, sigma, q, \"Score Distribution when \" +r\"$\\beta=\\beta_{strat}$\")\n",
    "normalized_socio_econ = plot_score_dist(axs[2], agent_dist, beta_naive, sigma, q, \"Score Distribution when \" +r\"$\\beta=\\beta_{cap}$\")\n",
    "\n",
    "fig.subplots_adjust(right=0.85, top=0.80)\n",
    "cbar_ax = fig.add_axes([0.90, 0.15, 0.01, 0.7])\n",
    "cbar_ax.set_title(\"Normalized SES\")\n",
    "\n",
    "\n",
    "bins = [-0.01, 0.333, 0.666, 1.1]\n",
    "colors = ['#ffbe0b', '#fb5607', '#ff006e', '#8338ec']\n",
    "cmap = mpl.colors.ListedColormap(colors)\n",
    "norm = mpl.colors.BoundaryNorm(boundaries=bins, ncolors=len(cmap.colors)-1 )\n",
    "\n",
    "cbar = mpl.colorbar.ColorbarBase(cbar_ax, cmap=cmap,\n",
    "                                norm=norm,\n",
    "                                boundaries= bins,\n",
    "                                #extend='both',\n",
    "                                ticks=[0., 0.333, 0.666, 1.0],\n",
    "                                spacing='proportional',\n",
    "                                orientation='vertical')\n",
    "\n",
    "fig.suptitle(\"Induced Score Distributions when Equilibrium Policy Value is \" + r\"$V_{eq, 1}$\", fontsize=25)\n",
    "plt.savefig(\"figs/paper-figure-4a.pdf\")"
   ]
  },
  {
   "cell_type": "markdown",
   "id": "259694b5",
   "metadata": {},
   "source": [
    "        \"F22XRSTD\",  # READING STANDARDIZED SCORE\n",
    "        \"F22XMSTD\",  # MATHEMATICS STANDARDIZED SCORE\n",
    "        \"F22XSSTD\",  # SCIENCE STANDARDIZED SCORE\n",
    "        \"F22XHSTD\",  # HISTORY/CIT/GEOG STANDARDIZED SCORE\n",
    "        \"F2RHENG2\",  # AVERAGE GRADE IN ENGLISH (HS+B)\n",
    "        \"F2RHMAG2\",  # AVERAGE GRADE IN MATHEMATICS (HS+B)\n",
    "        \"F2RHSCG2\",  # AVERAGE GRADE IN SCIENCE (HS+B)\n",
    "        \"F2RHSOG2\",  # AVERAGE GRADE IN SOCIAL STUDIES (HS+B)\n",
    "        \"F2RHFOG2\",  # AVERAGE GRADE IN FOREIGN LANG. (HS+B)"
   ]
  }
 ],
 "metadata": {
  "kernelspec": {
   "display_name": "Python 3 (ipykernel)",
   "language": "python",
   "name": "python3"
  },
  "language_info": {
   "codemirror_mode": {
    "name": "ipython",
    "version": 3
   },
   "file_extension": ".py",
   "mimetype": "text/x-python",
   "name": "python",
   "nbconvert_exporter": "python",
   "pygments_lexer": "ipython3",
   "version": "3.9.12"
  }
 },
 "nbformat": 4,
 "nbformat_minor": 5
}
