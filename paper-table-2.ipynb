{
 "cells": [
  {
   "cell_type": "code",
   "execution_count": 1,
   "id": "a926ac5e",
   "metadata": {},
   "outputs": [],
   "source": [
    "import matplotlib.pyplot as plt\n",
    "import pandas as pd\n",
    "import numpy as np"
   ]
  },
  {
   "cell_type": "code",
   "execution_count": 2,
   "id": "52f58ac4",
   "metadata": {},
   "outputs": [],
   "source": [
    "df = pd.read_csv(\"results/high_dim_12-13-23.csv\")\n",
    "df = df.sort_values(['method', 'seed'], ascending=[True, True])"
   ]
  },
  {
   "cell_type": "code",
   "execution_count": 3,
   "id": "42ef7e4e",
   "metadata": {},
   "outputs": [
    {
     "data": {
      "text/plain": [
       "(6.153, 0.155)"
      ]
     },
     "execution_count": 3,
     "metadata": {},
     "output_type": "execute_result"
    }
   ],
   "source": [
    "tot_df = df[df.method == \"total_deriv\"]\n",
    "-round(tot_df[\"final_loss\"].mean(), 3), round(tot_df[\"final_loss\"].std(), 3)"
   ]
  },
  {
   "cell_type": "code",
   "execution_count": 4,
   "id": "25a1ea43",
   "metadata": {},
   "outputs": [
    {
     "data": {
      "text/plain": [
       "(6.116, 0.141)"
      ]
     },
     "execution_count": 4,
     "metadata": {},
     "output_type": "execute_result"
    }
   ],
   "source": [
    "partial_df = df[df.method == \"partial_deriv_loss_beta\"]\n",
    "-round(partial_df[\"final_loss\"].mean(), 3), round(partial_df[\"final_loss\"].std(), 3)"
   ]
  },
  {
   "cell_type": "code",
   "execution_count": 5,
   "id": "907fa048",
   "metadata": {},
   "outputs": [
    {
     "data": {
      "text/plain": [
       "(5.832, 0.155)"
      ]
     },
     "execution_count": 5,
     "metadata": {},
     "output_type": "execute_result"
    }
   ],
   "source": [
    "ewm_df = df[df.method == \"ewm\"]\n",
    "-round(ewm_df[\"final_loss\"].mean(), 3), round(tot_df[\"final_loss\"].std(), 3)"
   ]
  },
  {
   "cell_type": "code",
   "execution_count": 6,
   "id": "14eead0f",
   "metadata": {},
   "outputs": [
    {
     "data": {
      "text/plain": [
       "-5.0793094831382275"
      ]
     },
     "execution_count": 6,
     "metadata": {},
     "output_type": "execute_result"
    }
   ],
   "source": [
    "y = tot_df[\"final_loss\"].to_numpy().flatten()\n",
    "x = partial_df[\"final_loss\"].to_numpy().flatten()\n",
    "diff = y - x\n",
    "mean_diff = np.mean(diff)\n",
    "std_diff = np.std(diff)\n",
    "se = std_diff/np.sqrt(10)\n",
    "T = mean_diff/se\n",
    "T"
   ]
  },
  {
   "cell_type": "code",
   "execution_count": 15,
   "id": "41ff05d8",
   "metadata": {},
   "outputs": [
    {
     "data": {
      "text/plain": [
       "array([-6.33402685, -5.95651343, -6.09119116, -6.18450073, -6.37598733,\n",
       "       -6.22605167, -6.07719824, -5.97604722])"
      ]
     },
     "execution_count": 15,
     "metadata": {},
     "output_type": "execute_result"
    }
   ],
   "source": [
    "y"
   ]
  },
  {
   "cell_type": "code",
   "execution_count": 16,
   "id": "8080fac6",
   "metadata": {},
   "outputs": [
    {
     "data": {
      "text/plain": [
       "array([-6.32824752, -5.90658283, -4.97060992, -6.04793148, -5.67953048,\n",
       "       -6.16770325, -5.06827306, -5.91055953, -6.19070166, -6.05117806])"
      ]
     },
     "execution_count": 16,
     "metadata": {},
     "output_type": "execute_result"
    }
   ],
   "source": [
    "x"
   ]
  },
  {
   "cell_type": "code",
   "execution_count": null,
   "id": "fa70b1aa",
   "metadata": {},
   "outputs": [],
   "source": []
  }
 ],
 "metadata": {
  "kernelspec": {
   "display_name": "Python 3 (ipykernel)",
   "language": "python",
   "name": "python3"
  },
  "language_info": {
   "codemirror_mode": {
    "name": "ipython",
    "version": 3
   },
   "file_extension": ".py",
   "mimetype": "text/x-python",
   "name": "python",
   "nbconvert_exporter": "python",
   "pygments_lexer": "ipython3",
   "version": "3.9.12"
  }
 },
 "nbformat": 4,
 "nbformat_minor": 5
}
