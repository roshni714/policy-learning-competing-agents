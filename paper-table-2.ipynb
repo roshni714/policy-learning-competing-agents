{
 "cells": [
  {
   "cell_type": "code",
   "execution_count": 1,
   "id": "7b17289e",
   "metadata": {},
   "outputs": [],
   "source": [
    "import matplotlib.pyplot as plt\n",
    "import pandas as pd\n",
    "import numpy as np"
   ]
  },
  {
   "cell_type": "code",
   "execution_count": 2,
   "id": "67494f11",
   "metadata": {},
   "outputs": [],
   "source": [
    "df = pd.read_csv(\"results/sphere_7-9-22.csv\")"
   ]
  },
  {
   "cell_type": "code",
   "execution_count": 8,
   "id": "9b2fe5df",
   "metadata": {},
   "outputs": [
    {
     "data": {
      "text/plain": [
       "(-2.054175711076337, 0.1417683557681302)"
      ]
     },
     "execution_count": 8,
     "metadata": {},
     "output_type": "execute_result"
    }
   ],
   "source": [
    "tot_df = df[df.gradient_type == \"total_deriv\"]\n",
    "tot_df[\"final_loss\"].mean(), tot_df[\"final_loss\"].std()"
   ]
  },
  {
   "cell_type": "code",
   "execution_count": 10,
   "id": "867de047",
   "metadata": {},
   "outputs": [
    {
     "data": {
      "text/plain": [
       "(-1.8099177426953292, 0.14162425968812092)"
      ]
     },
     "execution_count": 10,
     "metadata": {},
     "output_type": "execute_result"
    }
   ],
   "source": [
    "partial_df = df[df.gradient_type == \"partial_deriv_loss_beta\"]\n",
    "partial_df[\"final_loss\"].mean(), partial_df[\"final_loss\"].std()"
   ]
  },
  {
   "cell_type": "code",
   "execution_count": 5,
   "id": "b0477170",
   "metadata": {},
   "outputs": [
    {
     "data": {
      "text/plain": [
       "-7.69676129911821"
      ]
     },
     "execution_count": 5,
     "metadata": {},
     "output_type": "execute_result"
    }
   ],
   "source": [
    "y = tot_df[\"final_loss\"].to_numpy().flatten()\n",
    "x = partial_df[\"final_loss\"].to_numpy().flatten()\n",
    "diff = y - x\n",
    "mean_diff = np.mean(diff)\n",
    "std_diff = np.std(diff)\n",
    "se = std_diff/np.sqrt(10)\n",
    "T = mean_diff/se\n",
    "T"
   ]
  },
  {
   "cell_type": "code",
   "execution_count": null,
   "id": "ddd90ed5",
   "metadata": {},
   "outputs": [],
   "source": []
  }
 ],
 "metadata": {
  "kernelspec": {
   "display_name": "Python 3 (ipykernel)",
   "language": "python",
   "name": "python3"
  },
  "language_info": {
   "codemirror_mode": {
    "name": "ipython",
    "version": 3
   },
   "file_extension": ".py",
   "mimetype": "text/x-python",
   "name": "python",
   "nbconvert_exporter": "python",
   "pygments_lexer": "ipython3",
   "version": "3.8.12"
  }
 },
 "nbformat": 4,
 "nbformat_minor": 5
}
